{
 "cells": [
  {
   "cell_type": "code",
   "execution_count": 20,
   "metadata": {},
   "outputs": [],
   "source": [
    "import cifar10\n",
    "import matplotlib.pyplot as plt\n",
    "from sklearn.model_selection import train_test_split\n",
    "from sklearn.decomposition import PCA\n",
    "from sklearn import ensemble\n",
    "import time\n",
    "from sklearn.metrics import classification_report , confusion_matrix\n",
    "from sklearn import svm\n",
    "import numpy as np "
   ]
  },
  {
   "cell_type": "code",
   "execution_count": 2,
   "metadata": {},
   "outputs": [],
   "source": [
    "cifar10.data_path = \"data/CIFAR-10/\""
   ]
  },
  {
   "cell_type": "code",
   "execution_count": 3,
   "metadata": {},
   "outputs": [
    {
     "name": "stdout",
     "output_type": "stream",
     "text": [
      "Data has apparently already been downloaded and unpacked.\n"
     ]
    }
   ],
   "source": [
    "cifar10.maybe_download_and_extract()"
   ]
  },
  {
   "cell_type": "code",
   "execution_count": 4,
   "metadata": {},
   "outputs": [
    {
     "name": "stdout",
     "output_type": "stream",
     "text": [
      "Loading data: data/CIFAR-10/cifar-10-batches-py/batches.meta\n"
     ]
    },
    {
     "data": {
      "text/plain": [
       "['airplane',\n",
       " 'automobile',\n",
       " 'bird',\n",
       " 'cat',\n",
       " 'deer',\n",
       " 'dog',\n",
       " 'frog',\n",
       " 'horse',\n",
       " 'ship',\n",
       " 'truck']"
      ]
     },
     "execution_count": 4,
     "metadata": {},
     "output_type": "execute_result"
    }
   ],
   "source": [
    "class_names = cifar10.load_class_names()\n",
    "class_names"
   ]
  },
  {
   "cell_type": "code",
   "execution_count": 6,
   "metadata": {},
   "outputs": [
    {
     "name": "stdout",
     "output_type": "stream",
     "text": [
      "Loading data: data/CIFAR-10/cifar-10-batches-py/data_batch_1\n",
      "Loading data: data/CIFAR-10/cifar-10-batches-py/data_batch_2\n",
      "Loading data: data/CIFAR-10/cifar-10-batches-py/data_batch_3\n",
      "Loading data: data/CIFAR-10/cifar-10-batches-py/data_batch_4\n",
      "Loading data: data/CIFAR-10/cifar-10-batches-py/data_batch_5\n",
      "Loading data: data/CIFAR-10/cifar-10-batches-py/test_batch\n"
     ]
    }
   ],
   "source": [
    "images_train, cls_train, labels_train = cifar10.load_training_data()\n",
    "images_test, cls_test, labels_test = cifar10.load_test_data()"
   ]
  },
  {
   "cell_type": "code",
   "execution_count": 8,
   "metadata": {},
   "outputs": [],
   "source": [
    "x_train = images_train\n",
    "y_train = cls_train\n",
    "x_test = images_test\n",
    "y_test = cls_test"
   ]
  },
  {
   "cell_type": "code",
   "execution_count": 9,
   "metadata": {},
   "outputs": [
    {
     "data": {
      "text/plain": [
       "(50000, 3072)"
      ]
     },
     "execution_count": 9,
     "metadata": {},
     "output_type": "execute_result"
    }
   ],
   "source": [
    "X_TRAIN = x_train.reshape(50000,3072)\n",
    "X_TRAIN.shape"
   ]
  },
  {
   "cell_type": "code",
   "execution_count": 10,
   "metadata": {},
   "outputs": [
    {
     "data": {
      "text/plain": [
       "(50000,)"
      ]
     },
     "execution_count": 10,
     "metadata": {},
     "output_type": "execute_result"
    }
   ],
   "source": [
    "y_train.shape"
   ]
  },
  {
   "cell_type": "code",
   "execution_count": 11,
   "metadata": {},
   "outputs": [],
   "source": [
    "X_TEST = x_test.reshape(10000 , 3072)"
   ]
  },
  {
   "cell_type": "code",
   "execution_count": 12,
   "metadata": {},
   "outputs": [
    {
     "data": {
      "text/plain": [
       "(10000, 3072)"
      ]
     },
     "execution_count": 12,
     "metadata": {},
     "output_type": "execute_result"
    }
   ],
   "source": [
    "X_TEST.shape"
   ]
  },
  {
   "cell_type": "code",
   "execution_count": 13,
   "metadata": {},
   "outputs": [
    {
     "data": {
      "text/plain": [
       "(10000,)"
      ]
     },
     "execution_count": 13,
     "metadata": {},
     "output_type": "execute_result"
    }
   ],
   "source": [
    "y_test.shape"
   ]
  },
  {
   "cell_type": "code",
   "execution_count": 14,
   "metadata": {},
   "outputs": [
    {
     "data": {
      "text/plain": [
       "PCA(copy=True, iterated_power='auto', n_components=None, random_state=None,\n",
       "  svd_solver='auto', tol=0.0, whiten=False)"
      ]
     },
     "execution_count": 14,
     "metadata": {},
     "output_type": "execute_result"
    }
   ],
   "source": [
    "pca = PCA()\n",
    "pca.fit(X_TRAIN)"
   ]
  },
  {
   "cell_type": "code",
   "execution_count": 15,
   "metadata": {},
   "outputs": [
    {
     "data": {
      "text/plain": [
       "658"
      ]
     },
     "execution_count": 15,
     "metadata": {},
     "output_type": "execute_result"
    }
   ],
   "source": [
    "k = 0\n",
    "total = 0\n",
    "while total < 0.99:\n",
    "    total += pca.explained_variance_ratio_[k]\n",
    "    k = k+1 \n",
    "k"
   ]
  },
  {
   "cell_type": "code",
   "execution_count": 16,
   "metadata": {},
   "outputs": [],
   "source": [
    "pca_new = PCA(n_components=k , whiten=True)"
   ]
  },
  {
   "cell_type": "code",
   "execution_count": 17,
   "metadata": {},
   "outputs": [
    {
     "data": {
      "text/plain": [
       "(50000, 658)"
      ]
     },
     "execution_count": 17,
     "metadata": {},
     "output_type": "execute_result"
    }
   ],
   "source": [
    "trans = pca_new.fit_transform(X_TRAIN)\n",
    "trans.shape"
   ]
  },
  {
   "cell_type": "code",
   "execution_count": 18,
   "metadata": {},
   "outputs": [
    {
     "name": "stdout",
     "output_type": "stream",
     "text": [
      "(10000, 658)\n",
      "(50000, 658)\n"
     ]
    }
   ],
   "source": [
    "x_train_pca = trans \n",
    "x_test_pca = pca_new.transform(X_TEST)\n",
    "print(x_test_pca.shape)\n",
    "print(x_train_pca.shape)"
   ]
  },
  {
   "cell_type": "code",
   "execution_count": 42,
   "metadata": {},
   "outputs": [
    {
     "name": "stdout",
     "output_type": "stream",
     "text": [
      "25.85056233406067\n"
     ]
    }
   ],
   "source": [
    "rf = ensemble.RandomForestClassifier()\n",
    "start = time.time()\n",
    "rf.fit(X_TRAIN,y_train)\n",
    "print(time.time() - start)\n",
    "predictions = rf.predict(X_TEST)\n"
   ]
  },
  {
   "cell_type": "code",
   "execution_count": 52,
   "metadata": {},
   "outputs": [],
   "source": [
    "labels = []\n",
    "for i in range(len(predictions)):\n",
    "    labels.append(class_names[predictions[i]])"
   ]
  },
  {
   "cell_type": "code",
   "execution_count": 53,
   "metadata": {},
   "outputs": [],
   "source": [
    "np.savetxt(\"111predictions.csv\", labels, fmt = '%s')"
   ]
  },
  {
   "cell_type": "code",
   "execution_count": 54,
   "metadata": {},
   "outputs": [
    {
     "name": "stdout",
     "output_type": "stream",
     "text": [
      "             precision    recall  f1-score   support\n",
      "\n",
      "          0       0.38      0.54      0.45      1000\n",
      "          1       0.36      0.45      0.40      1000\n",
      "          2       0.25      0.29      0.27      1000\n",
      "          3       0.22      0.23      0.22      1000\n",
      "          4       0.30      0.30      0.30      1000\n",
      "          5       0.33      0.28      0.30      1000\n",
      "          6       0.39      0.33      0.36      1000\n",
      "          7       0.43      0.31      0.36      1000\n",
      "          8       0.53      0.49      0.51      1000\n",
      "          9       0.44      0.36      0.40      1000\n",
      "\n",
      "avg / total       0.36      0.36      0.36     10000\n",
      "\n",
      "[[540  60  63  35  36  26  22  28 138  52]\n",
      " [105 449  42  66  31  44  32  37  70 124]\n",
      " [139  59 292  98 148  66 105  47  28  18]\n",
      " [ 84  79 135 225  84 155 103  57  25  53]\n",
      " [ 68  49 217  75 303  53 113  79  24  19]\n",
      " [ 71  58 123 197 103 276  52  74  26  20]\n",
      " [ 47  60 146 143 153  64 325  30   8  24]\n",
      " [ 86  89  91  94 104  88  34 311  28  75]\n",
      " [169 111  30  45  21  36  14  18 491  65]\n",
      " [ 99 223  44  61  32  34  28  37  84 358]]\n"
     ]
    }
   ],
   "source": [
    "print(classification_report(y_test,y_pred))\n",
    "print(confusion_matrix(y_test,y_pred))"
   ]
  },
  {
   "cell_type": "code",
   "execution_count": 49,
   "metadata": {},
   "outputs": [
    {
     "name": "stdout",
     "output_type": "stream",
     "text": [
      "21.436733722686768\n"
     ]
    }
   ],
   "source": [
    "rf = ensemble.RandomForestClassifier()\n",
    "start = time.time()\n",
    "rf.fit(x_train_pca,y_train)\n",
    "print(time.time() - start)\n",
    "y_pred = rf.predict(x_test_pca)\n"
   ]
  },
  {
   "cell_type": "code",
   "execution_count": 50,
   "metadata": {},
   "outputs": [
    {
     "name": "stdout",
     "output_type": "stream",
     "text": [
      "             precision    recall  f1-score   support\n",
      "\n",
      "          0       0.22      0.37      0.27      1000\n",
      "          1       0.23      0.32      0.27      1000\n",
      "          2       0.17      0.23      0.19      1000\n",
      "          3       0.18      0.20      0.19      1000\n",
      "          4       0.23      0.23      0.23      1000\n",
      "          5       0.21      0.17      0.19      1000\n",
      "          6       0.27      0.19      0.22      1000\n",
      "          7       0.25      0.15      0.19      1000\n",
      "          8       0.35      0.26      0.30      1000\n",
      "          9       0.28      0.16      0.21      1000\n",
      "\n",
      "avg / total       0.24      0.23      0.22     10000\n",
      "\n",
      "[[368  83 117  70  63  74  28  34 122  41]\n",
      " [144 319  63  88  54  55  56  50  65 106]\n",
      " [172  76 226  94 166  70  96  42  37  21]\n",
      " [127 110 134 196 100 106  74  67  43  43]\n",
      " [128  82 209  90 232  60  86  59  31  23]\n",
      " [132 100 135 168  91 167  61  61  40  45]\n",
      " [ 97 117 152 119 140  79 192  53  24  27]\n",
      " [133 111 151 130  97  68  58 150  42  60]\n",
      " [236 123  98  85  42  52  30  30 259  45]\n",
      " [149 267  77  73  44  67  35  59  67 162]]\n"
     ]
    }
   ],
   "source": [
    "print(classification_report(y_test,y_pred))\n",
    "print(confusion_matrix(y_test,y_pred))"
   ]
  },
  {
   "cell_type": "code",
   "execution_count": 55,
   "metadata": {},
   "outputs": [],
   "source": [
    "svm = svm.SVC()"
   ]
  },
  {
   "cell_type": "code",
   "execution_count": null,
   "metadata": {},
   "outputs": [],
   "source": [
    "start = time.time()\n",
    "svm.fit(x_train_pca,y_train)\n",
    "print(time.time() - start)"
   ]
  },
  {
   "cell_type": "code",
   "execution_count": null,
   "metadata": {},
   "outputs": [],
   "source": [
    "y_pred = svm.predict(x_test_pca)"
   ]
  }
 ],
 "metadata": {
  "anaconda-cloud": {},
  "kernelspec": {
   "display_name": "Python 3",
   "language": "python",
   "name": "python3"
  },
  "language_info": {
   "codemirror_mode": {
    "name": "ipython",
    "version": 3
   },
   "file_extension": ".py",
   "mimetype": "text/x-python",
   "name": "python",
   "nbconvert_exporter": "python",
   "pygments_lexer": "ipython3",
   "version": "3.6.4"
  }
 },
 "nbformat": 4,
 "nbformat_minor": 1
}
